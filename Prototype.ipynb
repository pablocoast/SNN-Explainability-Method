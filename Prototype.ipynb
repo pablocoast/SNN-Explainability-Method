{
 "cells": [
  {
   "cell_type": "code",
   "execution_count": 3,
   "id": "08ba27f5",
   "metadata": {},
   "outputs": [],
   "source": [
    "\n",
    "import skimage\n",
    "import tensorflow as tf\n",
    "import pandas as pd\n",
    "import tarfile\n",
    "import tqdm\n",
    "import cv2\n",
    "import os\n",
    "from keras.models import load_model\n",
    "import matplotlib as mpl\n",
    "import matplotlib.pyplot as plt\n",
    "import numpy as np\n",
    "from get_embeddings import get_embeddings\n"
   ]
  },
  {
   "cell_type": "code",
   "execution_count": 4,
   "id": "457cdc2f",
   "metadata": {},
   "outputs": [],
   "source": [
    "#Load celebs images and embeddings\n",
    "celeb = pd.read_pickle(\"celeb40_full_identities_pickle\")\n",
    "images = celeb[\"images\"]\n",
    "images = np.stack(images)\n",
    "embeddings = celeb[\"embeddings\"]\n",
    "embeddings = np.stack(embeddings)"
   ]
  },
  {
   "cell_type": "code",
   "execution_count": 5,
   "id": "17f16410",
   "metadata": {},
   "outputs": [],
   "source": [
    "def get_prototype(person):\n",
    "    person_idx = celeb.index[celeb[\"person\"]==person].tolist()\n",
    "\n",
    "    \n",
    "    if len(person_idx) ==0:\n",
    "        prototype = 0\n",
    "    \n",
    "    else:\n",
    "        emb_value = 0     \n",
    "        for i in person_idx:\n",
    "            emb_value = emb_value + embeddings[i]\n",
    "        prototype = emb_value/len(person_idx)\n",
    "    return prototype"
   ]
  },
  {
   "cell_type": "code",
   "execution_count": 8,
   "id": "b14113a5",
   "metadata": {},
   "outputs": [
    {
     "name": "stdout",
     "output_type": "stream",
     "text": [
      "51\n"
     ]
    }
   ],
   "source": [
    "#List of prototypes of the first n people of the dataset\n",
    "n = 50 \n",
    "prototypes = [0]\n",
    "for i in range(n):\n",
    "    prototypes.append(get_prototype(i+1))\n",
    "print(len(prototypes))"
   ]
  },
  {
   "cell_type": "code",
   "execution_count": 6,
   "id": "621e558d",
   "metadata": {},
   "outputs": [],
   "source": [
    "\n",
    "def normalize(v):#all values between 0 and 1\n",
    "    return (v - np.min(v)) / (np.max(v) - np.min(v))\n",
    "\n",
    "    \n",
    "def show_image(x):\n",
    "    plt.imshow(np.clip(x + 0.5, 0, 1))\n",
    "    plt.axis(\"off\")\n",
    "    \n",
    "decoder = load_model(\"decoder_celeb.h5\")#(\"decoder_in_celeb2.h5\")#(\"decoder_celeb_200_onward.h5\")\n",
    "\n",
    "def get_most_important_features(image2, embedding1, embedding2, same_category= True, plot = False): #images, embeddings after index2\n",
    "\n",
    "\n",
    "    #Select embedding most important features     \n",
    "    print( np.dot(embedding1,embedding2)/(np.linalg.norm(embedding1)*np.linalg.norm(embedding2)))\n",
    "    dist = abs(embedding1 - embedding2)\n",
    "    norm_dist = normalize(dist)           \n",
    "\n",
    "    if same_category:\n",
    "        perturbation =  0.3 *abs(norm_dist - 1)\n",
    "\n",
    "    else:\n",
    "        perturbation = (norm_dist) * 0.3\n",
    " \n",
    "    x = decoder.predict((embedding2)[None])[0] #original reconstruction\n",
    "\n",
    "    \n",
    "    x_til = decoder.predict((perturbation + embedding2)[None])[0]\n",
    "    changes = abs((x_til - x))\n",
    "    changes = normalize(changes)\n",
    "\n",
    "    \n",
    "    #PLOT\n",
    "    if plot:\n",
    "        b = 0.7\n",
    "        selection = (changes > b)*1\n",
    "        for i in range(selection.shape[0]):\n",
    "            for j in range(selection.shape[1]):\n",
    "                if 1 in selection[i,j]:\n",
    "                    selection[i,j] = [1,1,0]\n",
    "                \n",
    "\n",
    "\n",
    "                \n",
    "        plt.subplot(1,6,1) \n",
    "        plt.title(\"reference\")\n",
    "        show_image(decoder.predict((embedding1)[None])[0]) \n",
    "        \n",
    "\n",
    "        plt.subplot(1,6,2) \n",
    "        plt.title(\"original\")\n",
    "        show_image(image2)\n",
    "        \n",
    "        plt.subplot(1,6,3) \n",
    "        plt.title(\"reconstruido\")\n",
    "        show_image(x)\n",
    "\n",
    "        \n",
    "        plt.subplot(1,6,4) \n",
    "        plt.title(\"\")\n",
    "        show_image(image2 + selection*100)\n",
    "        \n",
    "        \n",
    "        plt.subplot(1,6,5) \n",
    "        plt.title(\"\")\n",
    "        show_image(x + selection*100)\n",
    "        \n",
    "        \n",
    "        heat_map = np.zeros((40,40))\n",
    "        for i in range(selection.shape[0]):\n",
    "            for j in range(selection.shape[1]):\n",
    "                    heat_map[i,j] = sum(changes[i,j])\n",
    "                    \n",
    "        plt.subplot(1,6,6) \n",
    "        plt.title(\"\")\n",
    "        show_image(heat_map*0.25)\n",
    "        \n",
    "        plt.axis(\"off\")\n",
    "\n",
    "        plt.show()\n",
    "\n",
    "    \n",
    "    return changes\n"
   ]
  },
  {
   "cell_type": "code",
   "execution_count": 9,
   "id": "0291ba9d",
   "metadata": {},
   "outputs": [
    {
     "name": "stdout",
     "output_type": "stream",
     "text": [
      "0.8413556170468766\n"
     ]
    },
    {
     "data": {
      "image/png": "[encoded data removed]",
      "text/plain": [
       "<Figure size 432x288 with 6 Axes>"
      ]
     },
     "metadata": {
      "needs_background": "light"
     },
     "output_type": "display_data"
    }
   ],
   "source": [
    "n = 12\n",
    "person_idx = celeb.index[celeb[\"person\"]== n].tolist()\n",
    "#print(index1)\n",
    "index1 = person_idx[0]\n",
    "#index1 = 5\n",
    "#index2 = 16\n",
    "a= get_most_important_features(images[index1], prototypes[n], embeddings[index1], same_category= True, plot = True) #images, embeddings after index2\n",
    "#show_image(a)\n",
    "#plt.savefig(\"original 1\", format = pdf)"
   ]
  }
 ],
 "metadata": {
  "kernelspec": {
   "display_name": "Python 3 (ipykernel)",
   "language": "python",
   "name": "python3"
  },
  "language_info": {
   "codemirror_mode": {
    "name": "ipython",
    "version": 3
   },
   "file_extension": ".py",
   "mimetype": "text/x-python",
   "name": "python",
   "nbconvert_exporter": "python",
   "pygments_lexer": "ipython3",
   "version": "3.9.12"
  }
 },
 "nbformat": 4,
 "nbformat_minor": 5
}
