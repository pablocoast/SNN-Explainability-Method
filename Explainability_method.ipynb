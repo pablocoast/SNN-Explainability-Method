{
 "cells": [
  {
   "cell_type": "code",
   "execution_count": 3,
   "id": "08ba27f5",
   "metadata": {},
   "outputs": [],
   "source": [
    "import skimage\n",
    "import tensorflow as tf\n",
    "import pandas as pd\n",
    "import tarfile\n",
    "import tqdm\n",
    "import cv2\n",
    "import os\n",
    "from keras.models import load_model\n",
    "import matplotlib as mpl\n",
    "import matplotlib.pyplot as plt\n",
    "import numpy as np\n",
    "from get_embeddings import get_embeddings\n",
    "#from get_most_important_features import get_most_important_features\n"
   ]
  },
  {
   "cell_type": "code",
   "execution_count": 4,
   "id": "457cdc2f",
   "metadata": {},
   "outputs": [
    {
     "ename": "FileNotFoundError",
     "evalue": "[Errno 2] No such file or directory: 'celeb40_full_identities_pickle'",
     "output_type": "error",
     "traceback": [
      "\u001b[1;31m---------------------------------------------------------------------------\u001b[0m",
      "\u001b[1;31mFileNotFoundError\u001b[0m                         Traceback (most recent call last)",
      "Input \u001b[1;32mIn [4]\u001b[0m, in \u001b[0;36m<cell line: 2>\u001b[1;34m()\u001b[0m\n\u001b[0;32m      1\u001b[0m \u001b[38;5;66;03m#Load celebs images and embeddings\u001b[39;00m\n\u001b[1;32m----> 2\u001b[0m celeb \u001b[38;5;241m=\u001b[39m \u001b[43mpd\u001b[49m\u001b[38;5;241;43m.\u001b[39;49m\u001b[43mread_pickle\u001b[49m\u001b[43m(\u001b[49m\u001b[38;5;124;43m\"\u001b[39;49m\u001b[38;5;124;43mceleb40_full_identities_pickle\u001b[39;49m\u001b[38;5;124;43m\"\u001b[39;49m\u001b[43m)\u001b[49m\n\u001b[0;32m      3\u001b[0m images \u001b[38;5;241m=\u001b[39m celeb[\u001b[38;5;124m\"\u001b[39m\u001b[38;5;124mimages\u001b[39m\u001b[38;5;124m\"\u001b[39m]\n\u001b[0;32m      4\u001b[0m images \u001b[38;5;241m=\u001b[39m np\u001b[38;5;241m.\u001b[39mstack(images)\n",
      "File \u001b[1;32m~\\anaconda3\\envs\\tf-gpu\\lib\\site-packages\\pandas\\io\\pickle.py:187\u001b[0m, in \u001b[0;36mread_pickle\u001b[1;34m(filepath_or_buffer, compression, storage_options)\u001b[0m\n\u001b[0;32m    124\u001b[0m \u001b[38;5;124;03m\"\"\"\u001b[39;00m\n\u001b[0;32m    125\u001b[0m \u001b[38;5;124;03mLoad pickled pandas object (or any object) from file.\u001b[39;00m\n\u001b[0;32m    126\u001b[0m \n\u001b[1;32m   (...)\u001b[0m\n\u001b[0;32m    184\u001b[0m \u001b[38;5;124;03m4    4    9\u001b[39;00m\n\u001b[0;32m    185\u001b[0m \u001b[38;5;124;03m\"\"\"\u001b[39;00m  \u001b[38;5;66;03m# noqa: E501\u001b[39;00m\n\u001b[0;32m    186\u001b[0m excs_to_catch \u001b[38;5;241m=\u001b[39m (\u001b[38;5;167;01mAttributeError\u001b[39;00m, \u001b[38;5;167;01mImportError\u001b[39;00m, \u001b[38;5;167;01mModuleNotFoundError\u001b[39;00m, \u001b[38;5;167;01mTypeError\u001b[39;00m)\n\u001b[1;32m--> 187\u001b[0m \u001b[38;5;28;01mwith\u001b[39;00m \u001b[43mget_handle\u001b[49m\u001b[43m(\u001b[49m\n\u001b[0;32m    188\u001b[0m \u001b[43m    \u001b[49m\u001b[43mfilepath_or_buffer\u001b[49m\u001b[43m,\u001b[49m\n\u001b[0;32m    189\u001b[0m \u001b[43m    \u001b[49m\u001b[38;5;124;43m\"\u001b[39;49m\u001b[38;5;124;43mrb\u001b[39;49m\u001b[38;5;124;43m\"\u001b[39;49m\u001b[43m,\u001b[49m\n\u001b[0;32m    190\u001b[0m \u001b[43m    \u001b[49m\u001b[43mcompression\u001b[49m\u001b[38;5;241;43m=\u001b[39;49m\u001b[43mcompression\u001b[49m\u001b[43m,\u001b[49m\n\u001b[0;32m    191\u001b[0m \u001b[43m    \u001b[49m\u001b[43mis_text\u001b[49m\u001b[38;5;241;43m=\u001b[39;49m\u001b[38;5;28;43;01mFalse\u001b[39;49;00m\u001b[43m,\u001b[49m\n\u001b[0;32m    192\u001b[0m \u001b[43m    \u001b[49m\u001b[43mstorage_options\u001b[49m\u001b[38;5;241;43m=\u001b[39;49m\u001b[43mstorage_options\u001b[49m\u001b[43m,\u001b[49m\n\u001b[0;32m    193\u001b[0m \u001b[43m\u001b[49m\u001b[43m)\u001b[49m \u001b[38;5;28;01mas\u001b[39;00m handles:\n\u001b[0;32m    194\u001b[0m \n\u001b[0;32m    195\u001b[0m     \u001b[38;5;66;03m# 1) try standard library Pickle\u001b[39;00m\n\u001b[0;32m    196\u001b[0m     \u001b[38;5;66;03m# 2) try pickle_compat (older pandas version) to handle subclass changes\u001b[39;00m\n\u001b[0;32m    197\u001b[0m     \u001b[38;5;66;03m# 3) try pickle_compat with latin-1 encoding upon a UnicodeDecodeError\u001b[39;00m\n\u001b[0;32m    199\u001b[0m     \u001b[38;5;28;01mtry\u001b[39;00m:\n\u001b[0;32m    200\u001b[0m         \u001b[38;5;66;03m# TypeError for Cython complaints about object.__new__ vs Tick.__new__\u001b[39;00m\n\u001b[0;32m    201\u001b[0m         \u001b[38;5;28;01mtry\u001b[39;00m:\n",
      "File \u001b[1;32m~\\anaconda3\\envs\\tf-gpu\\lib\\site-packages\\pandas\\io\\common.py:798\u001b[0m, in \u001b[0;36mget_handle\u001b[1;34m(path_or_buf, mode, encoding, compression, memory_map, is_text, errors, storage_options)\u001b[0m\n\u001b[0;32m    789\u001b[0m         handle \u001b[38;5;241m=\u001b[39m \u001b[38;5;28mopen\u001b[39m(\n\u001b[0;32m    790\u001b[0m             handle,\n\u001b[0;32m    791\u001b[0m             ioargs\u001b[38;5;241m.\u001b[39mmode,\n\u001b[1;32m   (...)\u001b[0m\n\u001b[0;32m    794\u001b[0m             newline\u001b[38;5;241m=\u001b[39m\u001b[38;5;124m\"\u001b[39m\u001b[38;5;124m\"\u001b[39m,\n\u001b[0;32m    795\u001b[0m         )\n\u001b[0;32m    796\u001b[0m     \u001b[38;5;28;01melse\u001b[39;00m:\n\u001b[0;32m    797\u001b[0m         \u001b[38;5;66;03m# Binary mode\u001b[39;00m\n\u001b[1;32m--> 798\u001b[0m         handle \u001b[38;5;241m=\u001b[39m \u001b[38;5;28;43mopen\u001b[39;49m\u001b[43m(\u001b[49m\u001b[43mhandle\u001b[49m\u001b[43m,\u001b[49m\u001b[43m \u001b[49m\u001b[43mioargs\u001b[49m\u001b[38;5;241;43m.\u001b[39;49m\u001b[43mmode\u001b[49m\u001b[43m)\u001b[49m\n\u001b[0;32m    799\u001b[0m     handles\u001b[38;5;241m.\u001b[39mappend(handle)\n\u001b[0;32m    801\u001b[0m \u001b[38;5;66;03m# Convert BytesIO or file objects passed with an encoding\u001b[39;00m\n",
      "\u001b[1;31mFileNotFoundError\u001b[0m: [Errno 2] No such file or directory: 'celeb40_full_identities_pickle'"
     ]
    }
   ],
   "source": [
    "#Load celebs images and embeddings\n",
    "celeb = pd.read_pickle(\"celeb40_full_identities_pickle\")\n",
    "images = celeb[\"images\"]\n",
    "images = np.stack(images)\n",
    "embeddings = celeb[\"embeddings\"]\n",
    "embeddings = np.stack(embeddings)"
   ]
  },
  {
   "cell_type": "markdown",
   "id": "5fe7275c",
   "metadata": {},
   "source": [
    "## Explainability method"
   ]
  },
  {
   "cell_type": "code",
   "execution_count": 15,
   "id": "621e558d",
   "metadata": {},
   "outputs": [],
   "source": [
    "def normalize(v):#all values between 0 and 1\n",
    "    return (v - np.min(v)) / (np.max(v) - np.min(v))\n",
    "\n",
    "    \n",
    "def show_image(x):\n",
    "    plt.imshow(np.clip(x + 0.5, 0, 1))\n",
    "    plt.axis(\"off\")\n",
    "    \n",
    "decoder = load_model(\"decoder_celeb.h5\")\n",
    "\n",
    "def get_most_important_features(image1, image2, embedding1, embedding2, same_category= True, plot = False): #images, embeddings after index2\n",
    "    #image1 and embedding1 are those of the instance used as reference.\n",
    "    #image2 and embedding2 correspond to the test instance.\n",
    "    #if same_category = True, the most important feature are the closest ones. The converse is true when same_category = False\n",
    "    #The function returns a matrix with the relevance of every pixel.\n",
    "    \n",
    "    \n",
    "    #Select embedding most important features     \n",
    "    dist = abs(embedding1 - embedding2)\n",
    "    norm_dist = normalize(dist)\n",
    "    \n",
    "                \n",
    "    #print(len(idx_h))            \n",
    "\n",
    "    #perturbation = normalize(1/dist) *50 #/ ((embedding2)) #+ embedding1)#closer features suffer greater perturbations.  \n",
    "    if same_category:\n",
    "        perturbation =  0.3 *abs(norm_dist - 1)        \n",
    "    \n",
    "    else:\n",
    "        perturbation = (norm_dist) * 0.3\n",
    "        \n",
    "\n",
    "    #Perturb the embedding vector in its most important features, and detect the changes in the reconstructed image.\n",
    "\n",
    "    x = decoder.predict((embedding2)[None])[0] #original reconstruction\n",
    "\n",
    "    \n",
    "    x_til = decoder.predict((perturbation + embedding2)[None])[0]\n",
    "    changes = abs((x_til - x))\n",
    "    changes = normalize(changes)\n",
    "\n",
    "    \n",
    "    #PLOT\n",
    "    if plot:\n",
    "        b = 0.65\n",
    "        selection = (changes > b)*1\n",
    "        for i in range(selection.shape[0]):\n",
    "            for j in range(selection.shape[1]):\n",
    "                if 1 in selection[i,j]:\n",
    "                    selection[i,j] = [1,1,0]\n",
    "                #print(selection.shape)\n",
    "\n",
    "\n",
    "                \n",
    "        plt.subplot(1,6,1) \n",
    "        plt.title(\"reference\")\n",
    "        show_image(image1) \n",
    "        \n",
    "\n",
    "        plt.subplot(1,6,2) \n",
    "        plt.title(\"original\")\n",
    "        show_image(image2)\n",
    "        \n",
    "        plt.subplot(1,6,3) \n",
    "        plt.title(\"reconstruido\")\n",
    "        show_image(x)\n",
    "\n",
    "        \n",
    "        plt.subplot(1,6,4) \n",
    "        plt.title(\"\")\n",
    "        show_image(image2 + selection*100)\n",
    "        \n",
    "        \n",
    "        plt.subplot(1,6,5) \n",
    "        plt.title(\"\")\n",
    "        show_image(x + selection*100)\n",
    "        \n",
    "        \n",
    "        heat_map = np.zeros((40,40))\n",
    "        for i in range(selection.shape[0]):\n",
    "            for j in range(selection.shape[1]):\n",
    "                    heat_map[i,j] = sum(changes[i,j])\n",
    "                    \n",
    "        plt.subplot(1,6,6) \n",
    "        plt.title(\"\")\n",
    "        show_image(heat_map*0.25)\n",
    "        #show_image(x + selection*100)\n",
    "        \n",
    "        plt.axis(\"off\")\n",
    "\n",
    "        plt.show()\n",
    "\n",
    "    \n",
    "    return changes\n"
   ]
  },
  {
   "cell_type": "code",
   "execution_count": 16,
   "id": "ac33ac74",
   "metadata": {},
   "outputs": [
    {
     "data": {
      "text/plain": [
       "[37, 38, 39]"
      ]
     },
     "execution_count": 16,
     "metadata": {},
     "output_type": "execute_result"
    }
   ],
   "source": [
    "n = 10\n",
    "person_idx = celeb.index[celeb[\"person\"]== n].tolist()\n",
    "person_idx"
   ]
  },
  {
   "cell_type": "code",
   "execution_count": 19,
   "id": "c968b79b",
   "metadata": {
    "scrolled": true
   },
   "outputs": [
    {
     "data": {
      "image/png": "[encoded data removed]",
      "text/plain": [
       "<Figure size 432x288 with 6 Axes>"
      ]
     },
     "metadata": {
      "needs_background": "light"
     },
     "output_type": "display_data"
    }
   ],
   "source": [
    "index1 = 37\n",
    "index2 = 38\n",
    "a = get_most_important_features(images[index2], images[index1], embeddings[index2], embeddings[index1], same_category= True, plot = True) #images, embeddings after index2\n",
    "#show_image(a)\n",
    "#plt.savefig(\"original 1\", format = pdf)"
   ]
  },
  {
   "cell_type": "markdown",
   "id": "8c3ce9fd",
   "metadata": {},
   "source": [
    "## Quality assesment method\n"
   ]
  },
  {
   "cell_type": "code",
   "execution_count": 27,
   "id": "063d229f",
   "metadata": {},
   "outputs": [],
   "source": [
    "def quality_assesment(image1, image2, embedding1, embedding2, k = 10, size = 5, plot = False,  same_category= True): #matrix is an image of the perturbation magnitudes.\n",
    "    #k is the number of superpixels to be perturbed. \n",
    "    # size is the length of the sides of the square superpixel\n",
    "    \n",
    "    \n",
    "    image1 = np.copy(image1)\n",
    "    image2 = np.copy(image2)\n",
    "    \n",
    "    \n",
    "    img_dimension = image1.shape[0]\n",
    "    changes_matrix = get_most_important_features(image1, image2, embedding1, embedding2, same_category)\n",
    "    \n",
    "    \n",
    "    distance =  np.dot(embedding1,embedding2)/(np.linalg.norm(embedding1)*np.linalg.norm(embedding2))\n",
    "    \n",
    "    \n",
    "\n",
    "    #Get the value associated to every superpixel\n",
    "\n",
    "    mini_sum = []\n",
    "\n",
    "    row_size = changes_matrix.shape[0]//size\n",
    "    column_size = changes_matrix.shape[1]//size\n",
    "\n",
    "    assert row_size == changes_matrix.shape[0]/size\n",
    "    assert column_size ==  changes_matrix.shape[1]/size\n",
    "\n",
    "    for i in range(row_size):\n",
    "        for j in range(column_size):        \n",
    "            mini_sum.append(sum(sum(sum(changes_matrix[i*size : i*size+size, j*size : j*size+size,:]))))\n",
    "            \n",
    "    sorted_values = (sorted(mini_sum, reverse=True)[:k])\n",
    "    \n",
    "    superpixel_values_absolute = np.array(sorted_values)/(size*size*3)\n",
    "    superpixel_values = normalize(sorted_values)\n",
    "  \n",
    "    #Perturb the most important superpixel, and save its similarity with the reference image in perturbed_distance_list. \n",
    "    #Iterate k times\n",
    "    \n",
    "    perturbed_distance_list = [distance]\n",
    "\n",
    "    perturbed_images_list = []\n",
    "    perturbed_reference = []\n",
    "    for i in range(k):\n",
    "        idx_max = np.argmax(mini_sum)\n",
    "        row= idx_max//(img_dimension//size)\n",
    "        column = idx_max%(img_dimension//size)\n",
    "        row, column #position of the most important superpixel\n",
    "\n",
    "        mini_sum[idx_max] = 0 \n",
    "\n",
    "        perturbation = np.random.randn(size,size,3)* 0.1\n",
    "    \n",
    "        image2 = np.copy(image2)\n",
    "        image2[row*size: row*size+size , column*size: column*size+size, :] = perturbation\n",
    "        perturbed_images_list.append(image2)\n",
    "\n",
    "        \n",
    "        if same_category == False:\n",
    "            image1 = np.copy(image1)\n",
    "            image1[row*size: row*size+size , column*size: column*size+size, :] = perturbation \n",
    "            perturbed_reference.append(image1)\n",
    "        \n",
    "        \n",
    "        if plot:\n",
    "            if same_category:\n",
    "                plt.subplot(1,k,1+i) \n",
    "                plt.title(\"\")\n",
    "                show_image(image2)\n",
    "            \n",
    "            else:\n",
    "                plt.subplot(2,k,1+i) \n",
    "                plt.title(\"\")\n",
    "                show_image(image1)\n",
    "                \n",
    "                plt.subplot(2,k,1+i+ k) \n",
    "                plt.title(\"\")\n",
    "                show_image(image2)\n",
    "\n",
    "        \n",
    "    perturbed_embs = get_embeddings(image_list = perturbed_images_list)[1] #get embedding of the perturbed image.\n",
    "    \n",
    "    if same_category == False:\n",
    "        perturbed_reference_embs = get_embeddings(image_list = perturbed_reference)[1] \n",
    "    \n",
    "    \n",
    "    if same_category:\n",
    "        for emb in perturbed_embs:\n",
    "            perturbed_distance =  np.dot(embedding1, emb)/(np.linalg.norm(embedding1)*np.linalg.norm(emb))\n",
    "            perturbed_distance_list.append(perturbed_distance)\n",
    "            \n",
    "    else:\n",
    "        for i in range(len(perturbed_embs)):\n",
    "            perturbed_distance =  np.dot(perturbed_reference_embs[i], perturbed_embs[i])/(np.linalg.norm(perturbed_reference_embs[i])*np.linalg.norm(perturbed_embs[i]))\n",
    "            perturbed_distance_list.append(perturbed_distance)\n",
    "\n",
    "    \n",
    "    #Do absolute and normalized\n",
    "    #For normalized:\n",
    "    perturbed_distance_list = np.array(perturbed_distance_list)\n",
    "    normalized_distance =  perturbed_distance_list/distance\n",
    "    \n",
    "    if same_category == False:\n",
    "        normalized_distance = (perturbed_distance_list+1)/(distance + 1) #perturbed_distance_list+1/(distance + 1)\n",
    "\n",
    "    \n",
    "    \n",
    "    plt.show()\n",
    "\n",
    "    return perturbed_distance_list, normalized_distance, superpixel_values_absolute, superpixel_values\n",
    "    #Maybe it will be faster to get all the embeddings of the perturbed images first? for avoiding innecessary iterations\n",
    "    #Another option is to create a dict that saves the values and recover them if they are needed again. \n",
    "    #but the problem is that it's highly improbable that the same perturbations will take place when comparing the reference to a different image. \n",
    "    #THIS PROCESS IS GONNA BE COMPUTATIONALLY EXPENSIVE.\n"
   ]
  },
  {
   "cell_type": "code",
   "execution_count": 20,
   "id": "4df929cd",
   "metadata": {},
   "outputs": [],
   "source": [
    "\n",
    "n = 281\n",
    "person_idx = celeb.index[celeb[\"person\"]== n].tolist()\n",
    "index1 = person_idx[0]\n",
    "index2 = person_idx[1]\n"
   ]
  },
  {
   "cell_type": "code",
   "execution_count": 21,
   "id": "fd68bf9e",
   "metadata": {},
   "outputs": [
    {
     "data": {
      "image/png": "[encoded data removed]",
      "text/plain": [
       "<Figure size 432x288 with 1 Axes>"
      ]
     },
     "metadata": {
      "needs_background": "light"
     },
     "output_type": "display_data"
    }
   ],
   "source": [
    "show_image(images[index1])\n"
   ]
  },
  {
   "cell_type": "code",
   "execution_count": 22,
   "id": "dc5c35ad",
   "metadata": {},
   "outputs": [
    {
     "data": {
      "image/png": "[encoded data removed]",
      "text/plain": [
       "<Figure size 432x288 with 1 Axes>"
      ]
     },
     "metadata": {
      "needs_background": "light"
     },
     "output_type": "display_data"
    }
   ],
   "source": [
    "show_image(images[index2])\n"
   ]
  },
  {
   "cell_type": "code",
   "execution_count": 25,
   "id": "472f04fa",
   "metadata": {},
   "outputs": [
    {
     "name": "stdout",
     "output_type": "stream",
     "text": [
      "WARNING:tensorflow:From C:\\Users\\pablo\\TFM\\get_embeddings.py:54: FastGFile.__init__ (from tensorflow.python.platform.gfile) is deprecated and will be removed in a future version.\n",
      "Instructions for updating:\n",
      "Use tf.gfile.GFile.\n"
     ]
    },
    {
     "data": {
      "image/png": "[encoded data removed]",
      "text/plain": [
       "<Figure size 432x288 with 10 Axes>"
      ]
     },
     "metadata": {
      "needs_background": "light"
     },
     "output_type": "display_data"
    },
    {
     "name": "stdout",
     "output_type": "stream",
     "text": [
      "absolute difference\n",
      "[0.74396396 0.68965987 0.6539817  0.65360411 0.65611078 0.63302846\n",
      " 0.64228264 0.63416539 0.63715246 0.60555544 0.62044459]\n",
      "relative difference\n",
      "[1.         0.9270071  0.87905024 0.87854271 0.88191205 0.85088593\n",
      " 0.86332495 0.85241414 0.85642921 0.81395803 0.83397131]\n",
      "superpixel relevance absolute\n",
      "[0.52336011 0.49628967 0.48279644 0.47597315 0.45388134 0.44591181\n",
      " 0.42871026 0.42548819 0.37895839 0.35007483]\n",
      "superpixel relevance relative\n",
      "[1.         0.84378106 0.76591392 0.72653787 0.5990498  0.553059\n",
      " 0.45379176 0.43519775 0.16668216 0.        ]\n"
     ]
    }
   ],
   "source": [
    "\n",
    "a, b, c, d = quality_assesment(images[index1], images[index2], embeddings[index1], embeddings[index2], k = 10, size = 8, plot = True)\n",
    "#plt.savefig(\"Imagenes_esquemas\\perturbaciones1\", format = \"pdf\")\n",
    "\n",
    "print(\"absolute difference\")\n",
    "print(a)\n",
    "print(\"relative difference\")\n",
    "print(b)\n",
    "print(\"superpixel relevance absolute\")\n",
    "print(c)\n",
    "print(\"superpixel relevance relative\")\n",
    "print(d)"
   ]
  },
  {
   "cell_type": "code",
   "execution_count": 29,
   "id": "7314d29d",
   "metadata": {},
   "outputs": [
    {
     "name": "stderr",
     "output_type": "stream",
     "text": [
      "C:\\Users\\pablo\\AppData\\Local\\Temp\\ipykernel_15492\\2580116740.py:13: TqdmDeprecationWarning: This function will be removed in tqdm==5.0.0\n",
      "Please use `tqdm.notebook.tqdm` instead of `tqdm.tqdm_notebook`\n",
      "  for n in tqdm.tqdm_notebook(persons):\n"
     ]
    },
    {
     "data": {
      "application/vnd.jupyter.widget-view+json": {
       "model_id": "7cde94c9a3884f38809844c445bf073b",
       "version_major": 2,
       "version_minor": 0
      },
      "text/plain": [
       "  0%|          | 0/60 [00:00<?, ?it/s]"
      ]
     },
     "metadata": {},
     "output_type": "display_data"
    },
    {
     "name": "stderr",
     "output_type": "stream",
     "text": [
      "C:\\Users\\pablo\\TFM\\get_embeddings.py:185: RuntimeWarning: invalid value encountered in multiply\n",
      "  emb = np.ndarray((n_images, 512))*0\n"
     ]
    },
    {
     "name": "stdout",
     "output_type": "stream",
     "text": [
      "[0.6419214  0.62819851 0.6100442  0.59747186 0.59571799 0.58546163\n",
      " 0.57093209 0.55679016 0.54646706 0.52787309 0.5195188  0.50953214\n",
      " 0.49353742 0.49297039 0.47950588 0.46675744 0.45336694 0.44506234\n",
      " 0.44142317 0.435204   0.42884818]\n",
      "[1.         0.97355137 0.93756424 0.91422815 0.91351427 0.89921701\n",
      " 0.87380554 0.85197372 0.83684142 0.80386389 0.7919222  0.77698936\n",
      " 0.74907324 0.7464472  0.72777771 0.70819509 0.68579827 0.67300355\n",
      " 0.66883496 0.66126716 0.65365469]\n",
      "superpixels values\n",
      "\n",
      "[1.         0.87587163 0.74307866 0.68079401 0.63956856 0.58295803\n",
      " 0.52070724 0.47752776 0.43771532 0.38861012 0.3601131  0.3066029\n",
      " 0.27101999 0.22796946 0.19129889 0.1354689  0.08770397 0.05413659\n",
      " 0.02491281 0.        ]\n",
      "40\n"
     ]
    }
   ],
   "source": [
    "persons = []\n",
    "size = 5\n",
    "for i in range(60):\n",
    "    persons.append((1 + i))#Assess the method for the first 60 identities. \n",
    "    \n",
    "\n",
    "c = 0\n",
    "absolute_sum = 0\n",
    "normalized_sum = 0\n",
    "pix_values_sum = 0\n",
    "pix_values_abs_sum = 0\n",
    "\n",
    "for n in tqdm.tqdm_notebook(persons):\n",
    "    person_idx = celeb.index[celeb[\"person\"]== n].tolist()\n",
    "    for i in person_idx[0:2]:\n",
    "        for j in person_idx[0:2]:\n",
    "            if i < j:\n",
    "                distance =  np.dot(embeddings[i], embeddings[j])/(np.linalg.norm(embeddings[i])*np.linalg.norm(embeddings[j]))\n",
    "                if distance > 0.30:\n",
    "                    c += 1\n",
    "                    absolute, normalized, pix_values_abs, pix_values = quality_assesment(images[i], images[j], embeddings[i], embeddings[j], same_category = True,size = size, k = 20)\n",
    "                    absolute_sum += absolute\n",
    "                    normalized_sum += normalized\n",
    "                    pix_values_sum += pix_values\n",
    "                    pix_values_abs_sum += pix_values_abs\n",
    "\n",
    "average_absolute = absolute_sum/c\n",
    "average_normalized = normalized_sum/c \n",
    "average_pix_values_abs = pix_values_abs_sum/c\n",
    "average_pix_values = pix_values_sum / c\n",
    "print(average_absolute)\n",
    "print(average_normalized)\n",
    "print(\"superpixels values\")\n",
    "print()\n",
    "print(average_pix_values)\n",
    "print(c)"
   ]
  },
  {
   "cell_type": "code",
   "execution_count": 53,
   "id": "d3b529c6",
   "metadata": {},
   "outputs": [
    {
     "data": {
      "text/plain": [
       "Text(0, 0.5, 'normalized similarity score')"
      ]
     },
     "execution_count": 53,
     "metadata": {},
     "output_type": "execute_result"
    },
    {
     "data": {
      "image/png": "[encoded data removed]",
      "text/plain": [
       "<Figure size 432x288 with 1 Axes>"
      ]
     },
     "metadata": {
      "needs_background": "light"
     },
     "output_type": "display_data"
    }
   ],
   "source": [
    "\n",
    "\n",
    "plt.plot(average_normalized)\n",
    "plt.xticks(np.arange(0,22,2))\n",
    "plt.title(\"Instances of similarity >0.3\")\n",
    "plt.xlabel(\"number of perturbations\") #super pixels removed\n",
    "plt.ylabel(\"normalized similarity score\")\n",
    "\n",
    "#plt.savefig(\"Gráficos\\ normalized_0.3.png\", format = \"png\")"
   ]
  }
 ],
 "metadata": {
  "kernelspec": {
   "display_name": "Python 3 (ipykernel)",
   "language": "python",
   "name": "python3"
  },
  "language_info": {
   "codemirror_mode": {
    "name": "ipython",
    "version": 3
   },
   "file_extension": ".py",
   "mimetype": "text/x-python",
   "name": "python",
   "nbconvert_exporter": "python",
   "pygments_lexer": "ipython3",
   "version": "3.9.12"
  }
 },
 "nbformat": 4,
 "nbformat_minor": 5
}
