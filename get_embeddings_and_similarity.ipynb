{
 "cells": [
  {
   "cell_type": "code",
   "execution_count": 7,
   "id": "f4f8ac0b",
   "metadata": {},
   "outputs": [],
   "source": [
    "import tensorflow.compat.v1 as tf\n",
    "import numpy as np\n",
    "import sys\n",
    "import os\n",
    "import copy\n",
    "import argparse\n",
    "import imageio\n",
    "from PIL import Image\n",
    "import glob\n",
    "import cv2\n",
    "import matplotlib.pyplot as plt\n",
    "import pandas as pd\n",
    "import skimage\n",
    "import tqdm\n",
    "from tensorflow.python.platform import gfile\n",
    "import nbimporter\n",
    "import align.detect_face\n",
    "from keras.models import load_model\n",
    "from get_embeddings import get_embeddings\n"
   ]
  },
  {
   "cell_type": "code",
   "execution_count": 9,
   "id": "46fbbc66",
   "metadata": {},
   "outputs": [],
   "source": [
    "from tensorflow.keras import layers, Model, optimizers, losses, datasets\n",
    "\n",
    "# Load and preprocess the CIFAR-10 dataset\n",
    "(train_images, train_labels), (test_images, test_labels) = datasets.cifar10.load_data()\n",
    "train_images, test_images = (train_images / 255.0).astype('float32'), (test_images / 255.0).astype('float32')  # Normalize to [0,1]\n",
    "\n"
   ]
  },
  {
   "cell_type": "code",
   "execution_count": 15,
   "id": "f672260a",
   "metadata": {},
   "outputs": [],
   "source": [
    "images= (list(train_images[0:10]))"
   ]
  },
  {
   "cell_type": "code",
   "execution_count": 17,
   "id": "d65836a4",
   "metadata": {},
   "outputs": [
    {
     "name": "stdout",
     "output_type": "stream",
     "text": [
      "WARNING:tensorflow:From C:\\Users\\pablo\\TFM\\get_embeddings.py:54: FastGFile.__init__ (from tensorflow.python.platform.gfile) is deprecated and will be removed in a future version.\n",
      "Instructions for updating:\n",
      "Use tf.gfile.GFile.\n"
     ]
    }
   ],
   "source": [
    "#EJEMPLO\n",
    "\n",
    "images, embeddings = get_embeddings(save = False,  image_list = images)\n",
    "# lista de imágenes como input. \n",
    "# save = True si se desea guardar las imágenes y los embeddings como data frame."
   ]
  },
  {
   "cell_type": "code",
   "execution_count": 18,
   "id": "cd563701",
   "metadata": {},
   "outputs": [
    {
     "name": "stdout",
     "output_type": "stream",
     "text": [
      "Distance matrix\n",
      "        0         1         2         3         4         5         6         7         8         9     \n",
      "0    1.0000    0.3592    0.3201    0.7068    0.4768    0.4349    0.5460    0.7471    0.6768    0.4572  \n",
      "1    0.3592    1.0000    0.5567    0.4500    0.3364    0.1707    0.5565    0.4362    0.2530    0.4168  \n",
      "2    0.3201    0.5567    1.0000    0.3838    0.4993    0.0611    0.4020    0.3820    0.3150    0.4029  \n",
      "3    0.7068    0.4500    0.3838    1.0000    0.4491    0.0994    0.4171    0.5995    0.6125    0.4454  \n",
      "4    0.4768    0.3364    0.4993    0.4491    1.0000    0.1194    0.4951    0.5500    0.7266    0.5004  \n",
      "5    0.4349    0.1707    0.0611    0.0994    0.1194    1.0000    0.3041    0.0912    0.1794    0.5273  \n",
      "6    0.5460    0.5565    0.4020    0.4171    0.4951    0.3041    1.0000    0.6397    0.3965    0.6487  \n",
      "7    0.7471    0.4362    0.3820    0.5995    0.5500    0.0912    0.6397    1.0000    0.6290    0.4197  \n",
      "8    0.6768    0.2530    0.3150    0.6125    0.7266    0.1794    0.3965    0.6290    1.0000    0.5462  \n",
      "9    0.4572    0.4168    0.4029    0.4454    0.5004    0.5273    0.6487    0.4197    0.5462    1.0000  \n"
     ]
    }
   ],
   "source": [
    "# EL output es un cuadro donde se muestra la similaridad según la métrica especificada \n",
    "\n",
    "\n",
    "emb = embeddings\n",
    "nrof_images = len(images)\n",
    "\n",
    "print('Distance matrix')\n",
    "print('    ', end='')\n",
    "for i in range(nrof_images):\n",
    "    print('    %1d     ' % i, end='')\n",
    "print('')\n",
    "for i in range(nrof_images):\n",
    "    print('%1d  ' % i, end='')\n",
    "    for j in range(nrof_images):\n",
    "        #ESPECIFICACIÓN DE MÉTRICA DE DISTANCIA. La siguiente es el dot.product normalizado, pero se puede cambiar a otras, como cos similarity.\n",
    "        dist =  np.dot(emb[i,:], emb[j,:])/(np.linalg.norm(emb[i,:])*np.linalg.norm(emb[j,:]))\n",
    "        \n",
    "        \n",
    "        #Comentar la línea de código anterior y agregar la siguiente indicando un valor para el threshold sobre el cuál las imágenes se consideran de la misma categoría,\n",
    "        # y por debajo del cuál se consideran de categoría diferente\n",
    "        # El output que se obtendrá será una matriz con un valor de 1 si las imágenes son de la misma categoría, y 0 si son de categoría diferente:\n",
    "        \n",
    "        # dist =  np.dot(emb[i,:], emb[j,:])/(np.linalg.norm(emb[i,:])*np.linalg.norm(emb[j,:])) > threshold\n",
    "        \n",
    "        print('  %1.4f  ' % dist, end='')\n",
    "    print('')"
   ]
  },
  {
   "cell_type": "code",
   "execution_count": null,
   "id": "a8b54e01",
   "metadata": {},
   "outputs": [],
   "source": []
  }
 ],
 "metadata": {
  "kernelspec": {
   "display_name": "Python 3 (ipykernel)",
   "language": "python",
   "name": "python3"
  },
  "language_info": {
   "codemirror_mode": {
    "name": "ipython",
    "version": 3
   },
   "file_extension": ".py",
   "mimetype": "text/x-python",
   "name": "python",
   "nbconvert_exporter": "python",
   "pygments_lexer": "ipython3",
   "version": "3.9.12"
  }
 },
 "nbformat": 4,
 "nbformat_minor": 5
}
